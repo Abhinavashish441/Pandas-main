{
 "cells": [
  {
   "cell_type": "markdown",
   "id": "02f00585",
   "metadata": {
    "papermill": {
     "duration": 0.005778,
     "end_time": "2022-07-11T06:13:30.881092",
     "exception": false,
     "start_time": "2022-07-11T06:13:30.875314",
     "status": "completed"
    },
    "tags": []
   },
   "source": [
    "**This notebook is an exercise in the [Pandas](https://www.kaggle.com/learn/pandas) course.  You can reference the tutorial at [this link](https://www.kaggle.com/residentmario/renaming-and-combining).**\n",
    "\n",
    "---\n"
   ]
  },
  {
   "cell_type": "markdown",
   "id": "9f4f4be5",
   "metadata": {
    "papermill": {
     "duration": 0.004367,
     "end_time": "2022-07-11T06:13:30.889871",
     "exception": false,
     "start_time": "2022-07-11T06:13:30.885504",
     "status": "completed"
    },
    "tags": []
   },
   "source": [
    "# Introduction\n",
    "\n",
    "Run the following cell to load your data and some utility functions."
   ]
  },
  {
   "cell_type": "code",
   "execution_count": 1,
   "id": "cb2f7d79",
   "metadata": {
    "execution": {
     "iopub.execute_input": "2022-07-11T06:13:30.906240Z",
     "iopub.status.busy": "2022-07-11T06:13:30.905660Z",
     "iopub.status.idle": "2022-07-11T06:13:34.715665Z",
     "shell.execute_reply": "2022-07-11T06:13:34.714518Z"
    },
    "papermill": {
     "duration": 3.821918,
     "end_time": "2022-07-11T06:13:34.718833",
     "exception": false,
     "start_time": "2022-07-11T06:13:30.896915",
     "status": "completed"
    },
    "tags": []
   },
   "outputs": [
    {
     "name": "stdout",
     "output_type": "stream",
     "text": [
      "Setup complete.\n"
     ]
    }
   ],
   "source": [
    "import pandas as pd\n",
    "\n",
    "reviews = pd.read_csv(\"../input/wine-reviews/winemag-data-130k-v2.csv\", index_col=0)\n",
    "\n",
    "from learntools.core import binder; binder.bind(globals())\n",
    "from learntools.pandas.renaming_and_combining import *\n",
    "print(\"Setup complete.\")"
   ]
  },
  {
   "cell_type": "markdown",
   "id": "fde07ddf",
   "metadata": {
    "papermill": {
     "duration": 0.004093,
     "end_time": "2022-07-11T06:13:34.728105",
     "exception": false,
     "start_time": "2022-07-11T06:13:34.724012",
     "status": "completed"
    },
    "tags": []
   },
   "source": [
    "# Exercises\n",
    "\n",
    "View the first several lines of your data by running the cell below:"
   ]
  },
  {
   "cell_type": "code",
   "execution_count": 2,
   "id": "6c68f94f",
   "metadata": {
    "execution": {
     "iopub.execute_input": "2022-07-11T06:13:34.738586Z",
     "iopub.status.busy": "2022-07-11T06:13:34.738181Z",
     "iopub.status.idle": "2022-07-11T06:13:34.762703Z",
     "shell.execute_reply": "2022-07-11T06:13:34.761526Z"
    },
    "papermill": {
     "duration": 0.032373,
     "end_time": "2022-07-11T06:13:34.765081",
     "exception": false,
     "start_time": "2022-07-11T06:13:34.732708",
     "status": "completed"
    },
    "tags": []
   },
   "outputs": [
    {
     "data": {
      "text/html": [
       "<div>\n",
       "<style scoped>\n",
       "    .dataframe tbody tr th:only-of-type {\n",
       "        vertical-align: middle;\n",
       "    }\n",
       "\n",
       "    .dataframe tbody tr th {\n",
       "        vertical-align: top;\n",
       "    }\n",
       "\n",
       "    .dataframe thead th {\n",
       "        text-align: right;\n",
       "    }\n",
       "</style>\n",
       "<table border=\"1\" class=\"dataframe\">\n",
       "  <thead>\n",
       "    <tr style=\"text-align: right;\">\n",
       "      <th></th>\n",
       "      <th>country</th>\n",
       "      <th>description</th>\n",
       "      <th>designation</th>\n",
       "      <th>points</th>\n",
       "      <th>price</th>\n",
       "      <th>province</th>\n",
       "      <th>region_1</th>\n",
       "      <th>region_2</th>\n",
       "      <th>taster_name</th>\n",
       "      <th>taster_twitter_handle</th>\n",
       "      <th>title</th>\n",
       "      <th>variety</th>\n",
       "      <th>winery</th>\n",
       "    </tr>\n",
       "  </thead>\n",
       "  <tbody>\n",
       "    <tr>\n",
       "      <th>0</th>\n",
       "      <td>Italy</td>\n",
       "      <td>Aromas include tropical fruit, broom, brimston...</td>\n",
       "      <td>Vulkà Bianco</td>\n",
       "      <td>87</td>\n",
       "      <td>NaN</td>\n",
       "      <td>Sicily &amp; Sardinia</td>\n",
       "      <td>Etna</td>\n",
       "      <td>NaN</td>\n",
       "      <td>Kerin O’Keefe</td>\n",
       "      <td>@kerinokeefe</td>\n",
       "      <td>Nicosia 2013 Vulkà Bianco  (Etna)</td>\n",
       "      <td>White Blend</td>\n",
       "      <td>Nicosia</td>\n",
       "    </tr>\n",
       "    <tr>\n",
       "      <th>1</th>\n",
       "      <td>Portugal</td>\n",
       "      <td>This is ripe and fruity, a wine that is smooth...</td>\n",
       "      <td>Avidagos</td>\n",
       "      <td>87</td>\n",
       "      <td>15.0</td>\n",
       "      <td>Douro</td>\n",
       "      <td>NaN</td>\n",
       "      <td>NaN</td>\n",
       "      <td>Roger Voss</td>\n",
       "      <td>@vossroger</td>\n",
       "      <td>Quinta dos Avidagos 2011 Avidagos Red (Douro)</td>\n",
       "      <td>Portuguese Red</td>\n",
       "      <td>Quinta dos Avidagos</td>\n",
       "    </tr>\n",
       "    <tr>\n",
       "      <th>2</th>\n",
       "      <td>US</td>\n",
       "      <td>Tart and snappy, the flavors of lime flesh and...</td>\n",
       "      <td>NaN</td>\n",
       "      <td>87</td>\n",
       "      <td>14.0</td>\n",
       "      <td>Oregon</td>\n",
       "      <td>Willamette Valley</td>\n",
       "      <td>Willamette Valley</td>\n",
       "      <td>Paul Gregutt</td>\n",
       "      <td>@paulgwine</td>\n",
       "      <td>Rainstorm 2013 Pinot Gris (Willamette Valley)</td>\n",
       "      <td>Pinot Gris</td>\n",
       "      <td>Rainstorm</td>\n",
       "    </tr>\n",
       "    <tr>\n",
       "      <th>3</th>\n",
       "      <td>US</td>\n",
       "      <td>Pineapple rind, lemon pith and orange blossom ...</td>\n",
       "      <td>Reserve Late Harvest</td>\n",
       "      <td>87</td>\n",
       "      <td>13.0</td>\n",
       "      <td>Michigan</td>\n",
       "      <td>Lake Michigan Shore</td>\n",
       "      <td>NaN</td>\n",
       "      <td>Alexander Peartree</td>\n",
       "      <td>NaN</td>\n",
       "      <td>St. Julian 2013 Reserve Late Harvest Riesling ...</td>\n",
       "      <td>Riesling</td>\n",
       "      <td>St. Julian</td>\n",
       "    </tr>\n",
       "    <tr>\n",
       "      <th>4</th>\n",
       "      <td>US</td>\n",
       "      <td>Much like the regular bottling from 2012, this...</td>\n",
       "      <td>Vintner's Reserve Wild Child Block</td>\n",
       "      <td>87</td>\n",
       "      <td>65.0</td>\n",
       "      <td>Oregon</td>\n",
       "      <td>Willamette Valley</td>\n",
       "      <td>Willamette Valley</td>\n",
       "      <td>Paul Gregutt</td>\n",
       "      <td>@paulgwine</td>\n",
       "      <td>Sweet Cheeks 2012 Vintner's Reserve Wild Child...</td>\n",
       "      <td>Pinot Noir</td>\n",
       "      <td>Sweet Cheeks</td>\n",
       "    </tr>\n",
       "  </tbody>\n",
       "</table>\n",
       "</div>"
      ],
      "text/plain": [
       "    country                                        description  \\\n",
       "0     Italy  Aromas include tropical fruit, broom, brimston...   \n",
       "1  Portugal  This is ripe and fruity, a wine that is smooth...   \n",
       "2        US  Tart and snappy, the flavors of lime flesh and...   \n",
       "3        US  Pineapple rind, lemon pith and orange blossom ...   \n",
       "4        US  Much like the regular bottling from 2012, this...   \n",
       "\n",
       "                          designation  points  price           province  \\\n",
       "0                        Vulkà Bianco      87    NaN  Sicily & Sardinia   \n",
       "1                            Avidagos      87   15.0              Douro   \n",
       "2                                 NaN      87   14.0             Oregon   \n",
       "3                Reserve Late Harvest      87   13.0           Michigan   \n",
       "4  Vintner's Reserve Wild Child Block      87   65.0             Oregon   \n",
       "\n",
       "              region_1           region_2         taster_name  \\\n",
       "0                 Etna                NaN       Kerin O’Keefe   \n",
       "1                  NaN                NaN          Roger Voss   \n",
       "2    Willamette Valley  Willamette Valley        Paul Gregutt   \n",
       "3  Lake Michigan Shore                NaN  Alexander Peartree   \n",
       "4    Willamette Valley  Willamette Valley        Paul Gregutt   \n",
       "\n",
       "  taster_twitter_handle                                              title  \\\n",
       "0          @kerinokeefe                  Nicosia 2013 Vulkà Bianco  (Etna)   \n",
       "1            @vossroger      Quinta dos Avidagos 2011 Avidagos Red (Douro)   \n",
       "2           @paulgwine       Rainstorm 2013 Pinot Gris (Willamette Valley)   \n",
       "3                   NaN  St. Julian 2013 Reserve Late Harvest Riesling ...   \n",
       "4           @paulgwine   Sweet Cheeks 2012 Vintner's Reserve Wild Child...   \n",
       "\n",
       "          variety               winery  \n",
       "0     White Blend              Nicosia  \n",
       "1  Portuguese Red  Quinta dos Avidagos  \n",
       "2      Pinot Gris            Rainstorm  \n",
       "3        Riesling           St. Julian  \n",
       "4      Pinot Noir         Sweet Cheeks  "
      ]
     },
     "execution_count": 2,
     "metadata": {},
     "output_type": "execute_result"
    }
   ],
   "source": [
    "reviews.head()"
   ]
  },
  {
   "cell_type": "markdown",
   "id": "e5df1a30",
   "metadata": {
    "papermill": {
     "duration": 0.00504,
     "end_time": "2022-07-11T06:13:34.775040",
     "exception": false,
     "start_time": "2022-07-11T06:13:34.770000",
     "status": "completed"
    },
    "tags": []
   },
   "source": [
    "## 1.\n",
    "`region_1` and `region_2` are pretty uninformative names for locale columns in the dataset. Create a copy of `reviews` with these columns renamed to `region` and `locale`, respectively."
   ]
  },
  {
   "cell_type": "code",
   "execution_count": 3,
   "id": "9dc81c30",
   "metadata": {
    "execution": {
     "iopub.execute_input": "2022-07-11T06:13:34.787202Z",
     "iopub.status.busy": "2022-07-11T06:13:34.786804Z",
     "iopub.status.idle": "2022-07-11T06:13:34.822226Z",
     "shell.execute_reply": "2022-07-11T06:13:34.820555Z"
    },
    "papermill": {
     "duration": 0.044491,
     "end_time": "2022-07-11T06:13:34.824582",
     "exception": false,
     "start_time": "2022-07-11T06:13:34.780091",
     "status": "completed"
    },
    "tags": []
   },
   "outputs": [
    {
     "data": {
      "application/javascript": [
       "parent.postMessage({\"jupyterEvent\": \"custom.exercise_interaction\", \"data\": {\"outcomeType\": 1, \"valueTowardsCompletion\": 0.25, \"interactionType\": 1, \"questionType\": 1, \"questionId\": \"1_RenameCols\", \"learnToolsVersion\": \"0.3.4\", \"failureMessage\": \"\", \"exceptionClass\": \"\", \"trace\": \"\"}}, \"*\")"
      ],
      "text/plain": [
       "<IPython.core.display.Javascript object>"
      ]
     },
     "metadata": {},
     "output_type": "display_data"
    },
    {
     "data": {
      "text/markdown": [
       "<span style=\"color:#33cc33\">Correct</span>"
      ],
      "text/plain": [
       "Correct"
      ]
     },
     "metadata": {},
     "output_type": "display_data"
    }
   ],
   "source": [
    "# Your code here\n",
    "renamed = reviews.rename(columns=dict(\n",
    "    region_1 = 'region',\n",
    "    region_2 = 'locale'\n",
    "))\n",
    "\n",
    "# Check your answer\n",
    "q1.check()"
   ]
  },
  {
   "cell_type": "code",
   "execution_count": 4,
   "id": "19254aaa",
   "metadata": {
    "execution": {
     "iopub.execute_input": "2022-07-11T06:13:34.836584Z",
     "iopub.status.busy": "2022-07-11T06:13:34.836222Z",
     "iopub.status.idle": "2022-07-11T06:13:34.841517Z",
     "shell.execute_reply": "2022-07-11T06:13:34.840209Z"
    },
    "papermill": {
     "duration": 0.014483,
     "end_time": "2022-07-11T06:13:34.844045",
     "exception": false,
     "start_time": "2022-07-11T06:13:34.829562",
     "status": "completed"
    },
    "tags": []
   },
   "outputs": [],
   "source": [
    "#q1.hint()\n",
    "#q1.solution()"
   ]
  },
  {
   "cell_type": "markdown",
   "id": "be6c0f21",
   "metadata": {
    "papermill": {
     "duration": 0.004745,
     "end_time": "2022-07-11T06:13:34.853955",
     "exception": false,
     "start_time": "2022-07-11T06:13:34.849210",
     "status": "completed"
    },
    "tags": []
   },
   "source": [
    "## 2.\n",
    "Set the index name in the dataset to `wines`."
   ]
  },
  {
   "cell_type": "code",
   "execution_count": 5,
   "id": "eb66ea17",
   "metadata": {
    "execution": {
     "iopub.execute_input": "2022-07-11T06:13:34.865767Z",
     "iopub.status.busy": "2022-07-11T06:13:34.865250Z",
     "iopub.status.idle": "2022-07-11T06:13:34.897080Z",
     "shell.execute_reply": "2022-07-11T06:13:34.896196Z"
    },
    "papermill": {
     "duration": 0.040492,
     "end_time": "2022-07-11T06:13:34.899382",
     "exception": false,
     "start_time": "2022-07-11T06:13:34.858890",
     "status": "completed"
    },
    "tags": []
   },
   "outputs": [
    {
     "data": {
      "application/javascript": [
       "parent.postMessage({\"jupyterEvent\": \"custom.exercise_interaction\", \"data\": {\"outcomeType\": 1, \"valueTowardsCompletion\": 0.25, \"interactionType\": 1, \"questionType\": 1, \"questionId\": \"2_RenameIndex\", \"learnToolsVersion\": \"0.3.4\", \"failureMessage\": \"\", \"exceptionClass\": \"\", \"trace\": \"\"}}, \"*\")"
      ],
      "text/plain": [
       "<IPython.core.display.Javascript object>"
      ]
     },
     "metadata": {},
     "output_type": "display_data"
    },
    {
     "data": {
      "text/markdown": [
       "<span style=\"color:#33cc33\">Correct</span>"
      ],
      "text/plain": [
       "Correct"
      ]
     },
     "metadata": {},
     "output_type": "display_data"
    }
   ],
   "source": [
    "reindexed = reviews.rename_axis('wines',axis='rows')\n",
    "\n",
    "# Check your answer\n",
    "q2.check()"
   ]
  },
  {
   "cell_type": "code",
   "execution_count": 6,
   "id": "fc94e0a6",
   "metadata": {
    "execution": {
     "iopub.execute_input": "2022-07-11T06:13:34.911831Z",
     "iopub.status.busy": "2022-07-11T06:13:34.911457Z",
     "iopub.status.idle": "2022-07-11T06:13:34.916488Z",
     "shell.execute_reply": "2022-07-11T06:13:34.915364Z"
    },
    "papermill": {
     "duration": 0.013769,
     "end_time": "2022-07-11T06:13:34.918816",
     "exception": false,
     "start_time": "2022-07-11T06:13:34.905047",
     "status": "completed"
    },
    "tags": []
   },
   "outputs": [],
   "source": [
    "#q2.hint()\n",
    "#q2.solution()"
   ]
  },
  {
   "cell_type": "markdown",
   "id": "4bf0d377",
   "metadata": {
    "papermill": {
     "duration": 0.005097,
     "end_time": "2022-07-11T06:13:34.930405",
     "exception": false,
     "start_time": "2022-07-11T06:13:34.925308",
     "status": "completed"
    },
    "tags": []
   },
   "source": [
    "## 3.\n",
    "The [Things on Reddit](https://www.kaggle.com/residentmario/things-on-reddit/data) dataset includes product links from a selection of top-ranked forums (\"subreddits\") on reddit.com. Run the cell below to load a dataframe of products mentioned on the */r/gaming* subreddit and another dataframe for products mentioned on the *r//movies* subreddit."
   ]
  },
  {
   "cell_type": "code",
   "execution_count": 7,
   "id": "b692b50a",
   "metadata": {
    "execution": {
     "iopub.execute_input": "2022-07-11T06:13:34.943433Z",
     "iopub.status.busy": "2022-07-11T06:13:34.942668Z",
     "iopub.status.idle": "2022-07-11T06:13:34.957021Z",
     "shell.execute_reply": "2022-07-11T06:13:34.955802Z"
    },
    "papermill": {
     "duration": 0.023476,
     "end_time": "2022-07-11T06:13:34.959384",
     "exception": false,
     "start_time": "2022-07-11T06:13:34.935908",
     "status": "completed"
    },
    "tags": []
   },
   "outputs": [],
   "source": [
    "gaming_products = pd.read_csv(\"../input/things-on-reddit/top-things/top-things/reddits/g/gaming.csv\")\n",
    "gaming_products['subreddit'] = \"r/gaming\"\n",
    "movie_products = pd.read_csv(\"../input/things-on-reddit/top-things/top-things/reddits/m/movies.csv\")\n",
    "movie_products['subreddit'] = \"r/movies\""
   ]
  },
  {
   "cell_type": "markdown",
   "id": "59aa0269",
   "metadata": {
    "papermill": {
     "duration": 0.004907,
     "end_time": "2022-07-11T06:13:34.969786",
     "exception": false,
     "start_time": "2022-07-11T06:13:34.964879",
     "status": "completed"
    },
    "tags": []
   },
   "source": [
    "Create a `DataFrame` of products mentioned on *either* subreddit."
   ]
  },
  {
   "cell_type": "code",
   "execution_count": 8,
   "id": "8a4ad763",
   "metadata": {
    "execution": {
     "iopub.execute_input": "2022-07-11T06:13:34.982945Z",
     "iopub.status.busy": "2022-07-11T06:13:34.981838Z",
     "iopub.status.idle": "2022-07-11T06:13:34.995057Z",
     "shell.execute_reply": "2022-07-11T06:13:34.994089Z"
    },
    "papermill": {
     "duration": 0.02169,
     "end_time": "2022-07-11T06:13:34.996937",
     "exception": false,
     "start_time": "2022-07-11T06:13:34.975247",
     "status": "completed"
    },
    "tags": []
   },
   "outputs": [
    {
     "data": {
      "application/javascript": [
       "parent.postMessage({\"jupyterEvent\": \"custom.exercise_interaction\", \"data\": {\"outcomeType\": 1, \"valueTowardsCompletion\": 0.25, \"interactionType\": 1, \"questionType\": 2, \"questionId\": \"3_ConcatReddit\", \"learnToolsVersion\": \"0.3.4\", \"failureMessage\": \"\", \"exceptionClass\": \"\", \"trace\": \"\"}}, \"*\")"
      ],
      "text/plain": [
       "<IPython.core.display.Javascript object>"
      ]
     },
     "metadata": {},
     "output_type": "display_data"
    },
    {
     "data": {
      "text/markdown": [
       "<span style=\"color:#33cc33\">Correct</span>"
      ],
      "text/plain": [
       "Correct"
      ]
     },
     "metadata": {},
     "output_type": "display_data"
    }
   ],
   "source": [
    "combined_products = pd.concat([gaming_products,movie_products])\n",
    "\n",
    "# Check your answer\n",
    "q3.check()"
   ]
  },
  {
   "cell_type": "code",
   "execution_count": 9,
   "id": "0402f5ff",
   "metadata": {
    "execution": {
     "iopub.execute_input": "2022-07-11T06:13:35.009534Z",
     "iopub.status.busy": "2022-07-11T06:13:35.008531Z",
     "iopub.status.idle": "2022-07-11T06:13:35.013555Z",
     "shell.execute_reply": "2022-07-11T06:13:35.012432Z"
    },
    "papermill": {
     "duration": 0.013746,
     "end_time": "2022-07-11T06:13:35.015902",
     "exception": false,
     "start_time": "2022-07-11T06:13:35.002156",
     "status": "completed"
    },
    "tags": []
   },
   "outputs": [],
   "source": [
    "#q3.hint()\n",
    "#q3.solution()"
   ]
  },
  {
   "cell_type": "markdown",
   "id": "dfa50853",
   "metadata": {
    "papermill": {
     "duration": 0.005263,
     "end_time": "2022-07-11T06:13:35.027149",
     "exception": false,
     "start_time": "2022-07-11T06:13:35.021886",
     "status": "completed"
    },
    "tags": []
   },
   "source": [
    "## 4.\n",
    "The [Powerlifting Database](https://www.kaggle.com/open-powerlifting/powerlifting-database) dataset on Kaggle includes one CSV table for powerlifting meets and a separate one for powerlifting competitors. Run the cell below to load these datasets into dataframes:"
   ]
  },
  {
   "cell_type": "code",
   "execution_count": 10,
   "id": "fce69194",
   "metadata": {
    "execution": {
     "iopub.execute_input": "2022-07-11T06:13:35.039603Z",
     "iopub.status.busy": "2022-07-11T06:13:35.039216Z",
     "iopub.status.idle": "2022-07-11T06:13:35.757246Z",
     "shell.execute_reply": "2022-07-11T06:13:35.756213Z"
    },
    "papermill": {
     "duration": 0.727467,
     "end_time": "2022-07-11T06:13:35.759927",
     "exception": false,
     "start_time": "2022-07-11T06:13:35.032460",
     "status": "completed"
    },
    "tags": []
   },
   "outputs": [],
   "source": [
    "powerlifting_meets = pd.read_csv(\"../input/powerlifting-database/meets.csv\")\n",
    "powerlifting_competitors = pd.read_csv(\"../input/powerlifting-database/openpowerlifting.csv\")"
   ]
  },
  {
   "cell_type": "markdown",
   "id": "772303b3",
   "metadata": {
    "papermill": {
     "duration": 0.004994,
     "end_time": "2022-07-11T06:13:35.770287",
     "exception": false,
     "start_time": "2022-07-11T06:13:35.765293",
     "status": "completed"
    },
    "tags": []
   },
   "source": [
    "Both tables include references to a `MeetID`, a unique key for each meet (competition) included in the database. Using this, generate a dataset combining the two tables into one."
   ]
  },
  {
   "cell_type": "code",
   "execution_count": 11,
   "id": "08484801",
   "metadata": {
    "execution": {
     "iopub.execute_input": "2022-07-11T06:13:35.782507Z",
     "iopub.status.busy": "2022-07-11T06:13:35.781988Z",
     "iopub.status.idle": "2022-07-11T06:13:36.560029Z",
     "shell.execute_reply": "2022-07-11T06:13:36.558823Z"
    },
    "papermill": {
     "duration": 0.787106,
     "end_time": "2022-07-11T06:13:36.562562",
     "exception": false,
     "start_time": "2022-07-11T06:13:35.775456",
     "status": "completed"
    },
    "tags": []
   },
   "outputs": [
    {
     "data": {
      "application/javascript": [
       "parent.postMessage({\"jupyterEvent\": \"custom.exercise_interaction\", \"data\": {\"outcomeType\": 1, \"valueTowardsCompletion\": 0.25, \"interactionType\": 1, \"questionType\": 2, \"questionId\": \"4_JoinLifting\", \"learnToolsVersion\": \"0.3.4\", \"failureMessage\": \"\", \"exceptionClass\": \"\", \"trace\": \"\"}}, \"*\")"
      ],
      "text/plain": [
       "<IPython.core.display.Javascript object>"
      ]
     },
     "metadata": {},
     "output_type": "display_data"
    },
    {
     "data": {
      "text/markdown": [
       "<span style=\"color:#33cc33\">Correct</span>"
      ],
      "text/plain": [
       "Correct"
      ]
     },
     "metadata": {},
     "output_type": "display_data"
    }
   ],
   "source": [
    "powerlifting_combined = powerlifting_meets.set_index('MeetID').join(powerlifting_competitors.set_index('MeetID'))\n",
    "\n",
    "# Check your answer\n",
    "q4.check()"
   ]
  },
  {
   "cell_type": "code",
   "execution_count": 12,
   "id": "da8b2e32",
   "metadata": {
    "execution": {
     "iopub.execute_input": "2022-07-11T06:13:36.576293Z",
     "iopub.status.busy": "2022-07-11T06:13:36.575895Z",
     "iopub.status.idle": "2022-07-11T06:13:36.580374Z",
     "shell.execute_reply": "2022-07-11T06:13:36.579209Z"
    },
    "papermill": {
     "duration": 0.015072,
     "end_time": "2022-07-11T06:13:36.583495",
     "exception": false,
     "start_time": "2022-07-11T06:13:36.568423",
     "status": "completed"
    },
    "tags": []
   },
   "outputs": [],
   "source": [
    "#q4.hint()\n",
    "#q4.solution()"
   ]
  },
  {
   "cell_type": "markdown",
   "id": "78629000",
   "metadata": {
    "papermill": {
     "duration": 0.005427,
     "end_time": "2022-07-11T06:13:36.596504",
     "exception": false,
     "start_time": "2022-07-11T06:13:36.591077",
     "status": "completed"
    },
    "tags": []
   },
   "source": [
    "# Congratulations!\n",
    "\n",
    "You've finished the Pandas micro-course.  Many data scientists feel efficiency with Pandas is the most useful and practical skill they have, because it allows you to progress quickly in any project you have.\n",
    "\n",
    "If you'd like to apply your new skills to examining geospatial data, you're encouraged to check out our **[Geospatial Analysis](https://www.kaggle.com/learn/geospatial-analysis)** micro-course.\n",
    "\n",
    "You can also take advantage of your Pandas skills by entering a **[Kaggle Competition](https://www.kaggle.com/competitions)** or by answering a question you find interesting using **[Kaggle Datasets](https://www.kaggle.com/datasets)**."
   ]
  },
  {
   "cell_type": "markdown",
   "id": "57c30334",
   "metadata": {
    "papermill": {
     "duration": 0.005457,
     "end_time": "2022-07-11T06:13:36.607890",
     "exception": false,
     "start_time": "2022-07-11T06:13:36.602433",
     "status": "completed"
    },
    "tags": []
   },
   "source": [
    "---\n",
    "\n",
    "\n",
    "\n",
    "\n",
    "*Have questions or comments? Visit the [course discussion forum](https://www.kaggle.com/learn/pandas/discussion) to chat with other learners.*"
   ]
  }
 ],
 "metadata": {
  "kernelspec": {
   "display_name": "Python 3",
   "language": "python",
   "name": "python3"
  },
  "language_info": {
   "codemirror_mode": {
    "name": "ipython",
    "version": 3
   },
   "file_extension": ".py",
   "mimetype": "text/x-python",
   "name": "python",
   "nbconvert_exporter": "python",
   "pygments_lexer": "ipython3",
   "version": "3.7.12"
  },
  "papermill": {
   "default_parameters": {},
   "duration": 15.432214,
   "end_time": "2022-07-11T06:13:37.334695",
   "environment_variables": {},
   "exception": null,
   "input_path": "__notebook__.ipynb",
   "output_path": "__notebook__.ipynb",
   "parameters": {},
   "start_time": "2022-07-11T06:13:21.902481",
   "version": "2.3.4"
  }
 },
 "nbformat": 4,
 "nbformat_minor": 5
}
