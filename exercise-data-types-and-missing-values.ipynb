{
 "cells": [
  {
   "cell_type": "markdown",
   "id": "da2b7b45",
   "metadata": {
    "papermill": {
     "duration": 0.004631,
     "end_time": "2022-07-11T05:40:31.140801",
     "exception": false,
     "start_time": "2022-07-11T05:40:31.136170",
     "status": "completed"
    },
    "tags": []
   },
   "source": [
    "**This notebook is an exercise in the [Pandas](https://www.kaggle.com/learn/pandas) course.  You can reference the tutorial at [this link](https://www.kaggle.com/residentmario/data-types-and-missing-values).**\n",
    "\n",
    "---\n"
   ]
  },
  {
   "cell_type": "markdown",
   "id": "72fc7217",
   "metadata": {
    "papermill": {
     "duration": 0.003311,
     "end_time": "2022-07-11T05:40:31.147824",
     "exception": false,
     "start_time": "2022-07-11T05:40:31.144513",
     "status": "completed"
    },
    "tags": []
   },
   "source": [
    "# Introduction\n",
    "\n",
    "Run the following cell to load your data and some utility functions."
   ]
  },
  {
   "cell_type": "code",
   "execution_count": 1,
   "id": "ae14afe1",
   "metadata": {
    "execution": {
     "iopub.execute_input": "2022-07-11T05:40:31.157683Z",
     "iopub.status.busy": "2022-07-11T05:40:31.156821Z",
     "iopub.status.idle": "2022-07-11T05:40:33.889756Z",
     "shell.execute_reply": "2022-07-11T05:40:33.888301Z"
    },
    "papermill": {
     "duration": 2.741001,
     "end_time": "2022-07-11T05:40:33.892357",
     "exception": false,
     "start_time": "2022-07-11T05:40:31.151356",
     "status": "completed"
    },
    "tags": []
   },
   "outputs": [
    {
     "name": "stdout",
     "output_type": "stream",
     "text": [
      "Setup complete.\n"
     ]
    }
   ],
   "source": [
    "import pandas as pd\n",
    "\n",
    "reviews = pd.read_csv(\"../input/wine-reviews/winemag-data-130k-v2.csv\", index_col=0)\n",
    "\n",
    "from learntools.core import binder; binder.bind(globals())\n",
    "from learntools.pandas.data_types_and_missing_data import *\n",
    "print(\"Setup complete.\")"
   ]
  },
  {
   "cell_type": "markdown",
   "id": "14a8a68f",
   "metadata": {
    "papermill": {
     "duration": 0.003555,
     "end_time": "2022-07-11T05:40:33.899645",
     "exception": false,
     "start_time": "2022-07-11T05:40:33.896090",
     "status": "completed"
    },
    "tags": []
   },
   "source": [
    "# Exercises"
   ]
  },
  {
   "cell_type": "markdown",
   "id": "c6ba253c",
   "metadata": {
    "papermill": {
     "duration": 0.003309,
     "end_time": "2022-07-11T05:40:33.906717",
     "exception": false,
     "start_time": "2022-07-11T05:40:33.903408",
     "status": "completed"
    },
    "tags": []
   },
   "source": [
    "## 1. \n",
    "What is the data type of the `points` column in the dataset?"
   ]
  },
  {
   "cell_type": "code",
   "execution_count": 2,
   "id": "a0efe188",
   "metadata": {
    "execution": {
     "iopub.execute_input": "2022-07-11T05:40:33.915481Z",
     "iopub.status.busy": "2022-07-11T05:40:33.915099Z",
     "iopub.status.idle": "2022-07-11T05:40:33.926284Z",
     "shell.execute_reply": "2022-07-11T05:40:33.925184Z"
    },
    "papermill": {
     "duration": 0.017986,
     "end_time": "2022-07-11T05:40:33.928220",
     "exception": false,
     "start_time": "2022-07-11T05:40:33.910234",
     "status": "completed"
    },
    "tags": []
   },
   "outputs": [
    {
     "data": {
      "application/javascript": [
       "parent.postMessage({\"jupyterEvent\": \"custom.exercise_interaction\", \"data\": {\"outcomeType\": 1, \"valueTowardsCompletion\": 0.25, \"interactionType\": 1, \"questionType\": 1, \"questionId\": \"1_PointsDtype\", \"learnToolsVersion\": \"0.3.4\", \"failureMessage\": \"\", \"exceptionClass\": \"\", \"trace\": \"\"}}, \"*\")"
      ],
      "text/plain": [
       "<IPython.core.display.Javascript object>"
      ]
     },
     "metadata": {},
     "output_type": "display_data"
    },
    {
     "data": {
      "text/markdown": [
       "<span style=\"color:#33cc33\">Correct</span>"
      ],
      "text/plain": [
       "Correct"
      ]
     },
     "metadata": {},
     "output_type": "display_data"
    }
   ],
   "source": [
    "# Your code here\n",
    "dtype = reviews.points.dtype\n",
    "\n",
    "# Check your answer\n",
    "q1.check()"
   ]
  },
  {
   "cell_type": "code",
   "execution_count": 3,
   "id": "f5d1166d",
   "metadata": {
    "execution": {
     "iopub.execute_input": "2022-07-11T05:40:33.937116Z",
     "iopub.status.busy": "2022-07-11T05:40:33.936739Z",
     "iopub.status.idle": "2022-07-11T05:40:33.940621Z",
     "shell.execute_reply": "2022-07-11T05:40:33.939733Z"
    },
    "papermill": {
     "duration": 0.01049,
     "end_time": "2022-07-11T05:40:33.942473",
     "exception": false,
     "start_time": "2022-07-11T05:40:33.931983",
     "status": "completed"
    },
    "tags": []
   },
   "outputs": [],
   "source": [
    "#q1.hint()\n",
    "#q1.solution()"
   ]
  },
  {
   "cell_type": "markdown",
   "id": "fbe5cc5d",
   "metadata": {
    "papermill": {
     "duration": 0.003818,
     "end_time": "2022-07-11T05:40:33.950138",
     "exception": false,
     "start_time": "2022-07-11T05:40:33.946320",
     "status": "completed"
    },
    "tags": []
   },
   "source": [
    "## 2. \n",
    "Create a Series from entries in the `points` column, but convert the entries to strings. Hint: strings are `str` in native Python."
   ]
  },
  {
   "cell_type": "code",
   "execution_count": 4,
   "id": "3e28c51c",
   "metadata": {
    "execution": {
     "iopub.execute_input": "2022-07-11T05:40:33.959352Z",
     "iopub.status.busy": "2022-07-11T05:40:33.958984Z",
     "iopub.status.idle": "2022-07-11T05:40:34.039551Z",
     "shell.execute_reply": "2022-07-11T05:40:34.037717Z"
    },
    "papermill": {
     "duration": 0.087899,
     "end_time": "2022-07-11T05:40:34.041824",
     "exception": false,
     "start_time": "2022-07-11T05:40:33.953925",
     "status": "completed"
    },
    "tags": []
   },
   "outputs": [
    {
     "data": {
      "application/javascript": [
       "parent.postMessage({\"jupyterEvent\": \"custom.exercise_interaction\", \"data\": {\"outcomeType\": 1, \"valueTowardsCompletion\": 0.25, \"interactionType\": 1, \"questionType\": 1, \"questionId\": \"2_StrPoints\", \"learnToolsVersion\": \"0.3.4\", \"failureMessage\": \"\", \"exceptionClass\": \"\", \"trace\": \"\"}}, \"*\")"
      ],
      "text/plain": [
       "<IPython.core.display.Javascript object>"
      ]
     },
     "metadata": {},
     "output_type": "display_data"
    },
    {
     "data": {
      "text/markdown": [
       "<span style=\"color:#33cc33\">Correct</span>"
      ],
      "text/plain": [
       "Correct"
      ]
     },
     "metadata": {},
     "output_type": "display_data"
    }
   ],
   "source": [
    "point_strings = reviews.points.astype(str)\n",
    "\n",
    "# Check your answer\n",
    "q2.check()"
   ]
  },
  {
   "cell_type": "code",
   "execution_count": 5,
   "id": "57faf4a8",
   "metadata": {
    "execution": {
     "iopub.execute_input": "2022-07-11T05:40:34.051677Z",
     "iopub.status.busy": "2022-07-11T05:40:34.051324Z",
     "iopub.status.idle": "2022-07-11T05:40:34.055473Z",
     "shell.execute_reply": "2022-07-11T05:40:34.054491Z"
    },
    "papermill": {
     "duration": 0.011118,
     "end_time": "2022-07-11T05:40:34.057435",
     "exception": false,
     "start_time": "2022-07-11T05:40:34.046317",
     "status": "completed"
    },
    "tags": []
   },
   "outputs": [],
   "source": [
    "#q2.hint()\n",
    "#q2.solution()"
   ]
  },
  {
   "cell_type": "markdown",
   "id": "2e50ca95",
   "metadata": {
    "papermill": {
     "duration": 0.003589,
     "end_time": "2022-07-11T05:40:34.065030",
     "exception": false,
     "start_time": "2022-07-11T05:40:34.061441",
     "status": "completed"
    },
    "tags": []
   },
   "source": [
    "## 3.\n",
    "Sometimes the price column is null. How many reviews in the dataset are missing a price?"
   ]
  },
  {
   "cell_type": "code",
   "execution_count": 6,
   "id": "5398ba4c",
   "metadata": {
    "execution": {
     "iopub.execute_input": "2022-07-11T05:40:34.074076Z",
     "iopub.status.busy": "2022-07-11T05:40:34.073733Z",
     "iopub.status.idle": "2022-07-11T05:40:34.082437Z",
     "shell.execute_reply": "2022-07-11T05:40:34.081553Z"
    },
    "papermill": {
     "duration": 0.015548,
     "end_time": "2022-07-11T05:40:34.084358",
     "exception": false,
     "start_time": "2022-07-11T05:40:34.068810",
     "status": "completed"
    },
    "tags": []
   },
   "outputs": [
    {
     "data": {
      "application/javascript": [
       "parent.postMessage({\"jupyterEvent\": \"custom.exercise_interaction\", \"data\": {\"outcomeType\": 1, \"valueTowardsCompletion\": 0.25, \"interactionType\": 1, \"questionType\": 1, \"questionId\": \"3_CountMissingPrices\", \"learnToolsVersion\": \"0.3.4\", \"failureMessage\": \"\", \"exceptionClass\": \"\", \"trace\": \"\"}}, \"*\")"
      ],
      "text/plain": [
       "<IPython.core.display.Javascript object>"
      ]
     },
     "metadata": {},
     "output_type": "display_data"
    },
    {
     "data": {
      "text/markdown": [
       "<span style=\"color:#33cc33\">Correct</span>"
      ],
      "text/plain": [
       "Correct"
      ]
     },
     "metadata": {},
     "output_type": "display_data"
    }
   ],
   "source": [
    "n_missing_prices = reviews.price.isnull().sum()\n",
    "\n",
    "# Check your answer\n",
    "q3.check()"
   ]
  },
  {
   "cell_type": "code",
   "execution_count": 7,
   "id": "f07a8214",
   "metadata": {
    "execution": {
     "iopub.execute_input": "2022-07-11T05:40:34.094148Z",
     "iopub.status.busy": "2022-07-11T05:40:34.093801Z",
     "iopub.status.idle": "2022-07-11T05:40:34.097647Z",
     "shell.execute_reply": "2022-07-11T05:40:34.096809Z"
    },
    "papermill": {
     "duration": 0.01106,
     "end_time": "2022-07-11T05:40:34.099693",
     "exception": false,
     "start_time": "2022-07-11T05:40:34.088633",
     "status": "completed"
    },
    "tags": []
   },
   "outputs": [],
   "source": [
    "#q3.hint()\n",
    "#q3.solution()"
   ]
  },
  {
   "cell_type": "markdown",
   "id": "5c39dd5c",
   "metadata": {
    "papermill": {
     "duration": 0.003723,
     "end_time": "2022-07-11T05:40:34.107701",
     "exception": false,
     "start_time": "2022-07-11T05:40:34.103978",
     "status": "completed"
    },
    "tags": []
   },
   "source": [
    "## 4.\n",
    "What are the most common wine-producing regions? Create a Series counting the number of times each value occurs in the `region_1` field. This field is often missing data, so replace missing values with `Unknown`. Sort in descending order.  Your output should look something like this:\n",
    "\n",
    "```\n",
    "Unknown                    21247\n",
    "Napa Valley                 4480\n",
    "                           ...  \n",
    "Bardolino Superiore            1\n",
    "Primitivo del Tarantino        1\n",
    "Name: region_1, Length: 1230, dtype: int64\n",
    "```"
   ]
  },
  {
   "cell_type": "code",
   "execution_count": 8,
   "id": "45a41a95",
   "metadata": {
    "execution": {
     "iopub.execute_input": "2022-07-11T05:40:34.117437Z",
     "iopub.status.busy": "2022-07-11T05:40:34.117090Z",
     "iopub.status.idle": "2022-07-11T05:40:34.157955Z",
     "shell.execute_reply": "2022-07-11T05:40:34.156876Z"
    },
    "papermill": {
     "duration": 0.048362,
     "end_time": "2022-07-11T05:40:34.160031",
     "exception": false,
     "start_time": "2022-07-11T05:40:34.111669",
     "status": "completed"
    },
    "tags": []
   },
   "outputs": [
    {
     "data": {
      "application/javascript": [
       "parent.postMessage({\"jupyterEvent\": \"custom.exercise_interaction\", \"data\": {\"outcomeType\": 1, \"valueTowardsCompletion\": 0.25, \"interactionType\": 1, \"questionType\": 2, \"questionId\": \"4_ReviewsPerRegion\", \"learnToolsVersion\": \"0.3.4\", \"failureMessage\": \"\", \"exceptionClass\": \"\", \"trace\": \"\"}}, \"*\")"
      ],
      "text/plain": [
       "<IPython.core.display.Javascript object>"
      ]
     },
     "metadata": {},
     "output_type": "display_data"
    },
    {
     "data": {
      "text/markdown": [
       "<span style=\"color:#33cc33\">Correct</span>"
      ],
      "text/plain": [
       "Correct"
      ]
     },
     "metadata": {},
     "output_type": "display_data"
    }
   ],
   "source": [
    "reviews_per_region = reviews.region_1.fillna('Unknown').value_counts().sort_values(ascending=False)\n",
    "\n",
    "# Check your answer\n",
    "q4.check()"
   ]
  },
  {
   "cell_type": "code",
   "execution_count": 9,
   "id": "de2c1261",
   "metadata": {
    "execution": {
     "iopub.execute_input": "2022-07-11T05:40:34.170372Z",
     "iopub.status.busy": "2022-07-11T05:40:34.169745Z",
     "iopub.status.idle": "2022-07-11T05:40:34.174170Z",
     "shell.execute_reply": "2022-07-11T05:40:34.173057Z"
    },
    "papermill": {
     "duration": 0.011921,
     "end_time": "2022-07-11T05:40:34.176230",
     "exception": false,
     "start_time": "2022-07-11T05:40:34.164309",
     "status": "completed"
    },
    "tags": []
   },
   "outputs": [],
   "source": [
    "#q4.hint()\n",
    "#q4.solution()"
   ]
  },
  {
   "cell_type": "markdown",
   "id": "5066ff62",
   "metadata": {
    "papermill": {
     "duration": 0.004088,
     "end_time": "2022-07-11T05:40:34.184497",
     "exception": false,
     "start_time": "2022-07-11T05:40:34.180409",
     "status": "completed"
    },
    "tags": []
   },
   "source": [
    "# Keep going\n",
    "\n",
    "Move on to **[renaming and combining](https://www.kaggle.com/residentmario/renaming-and-combining)**."
   ]
  },
  {
   "cell_type": "markdown",
   "id": "98dcbeac",
   "metadata": {
    "papermill": {
     "duration": 0.004057,
     "end_time": "2022-07-11T05:40:34.192767",
     "exception": false,
     "start_time": "2022-07-11T05:40:34.188710",
     "status": "completed"
    },
    "tags": []
   },
   "source": [
    "---\n",
    "\n",
    "\n",
    "\n",
    "\n",
    "*Have questions or comments? Visit the [course discussion forum](https://www.kaggle.com/learn/pandas/discussion) to chat with other learners.*"
   ]
  }
 ],
 "metadata": {
  "kernelspec": {
   "display_name": "Python 3",
   "language": "python",
   "name": "python3"
  },
  "language_info": {
   "codemirror_mode": {
    "name": "ipython",
    "version": 3
   },
   "file_extension": ".py",
   "mimetype": "text/x-python",
   "name": "python",
   "nbconvert_exporter": "python",
   "pygments_lexer": "ipython3",
   "version": "3.7.12"
  },
  "papermill": {
   "default_parameters": {},
   "duration": 12.456984,
   "end_time": "2022-07-11T05:40:34.817240",
   "environment_variables": {},
   "exception": null,
   "input_path": "__notebook__.ipynb",
   "output_path": "__notebook__.ipynb",
   "parameters": {},
   "start_time": "2022-07-11T05:40:22.360256",
   "version": "2.3.4"
  }
 },
 "nbformat": 4,
 "nbformat_minor": 5
}
