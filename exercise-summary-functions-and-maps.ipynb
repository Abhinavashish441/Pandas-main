{
 "cells": [
  {
   "cell_type": "markdown",
   "id": "13e994c6",
   "metadata": {
    "papermill": {
     "duration": 0.005875,
     "end_time": "2022-07-10T16:22:36.923082",
     "exception": false,
     "start_time": "2022-07-10T16:22:36.917207",
     "status": "completed"
    },
    "tags": []
   },
   "source": [
    "**This notebook is an exercise in the [Pandas](https://www.kaggle.com/learn/pandas) course.  You can reference the tutorial at [this link](https://www.kaggle.com/residentmario/summary-functions-and-maps).**\n",
    "\n",
    "---\n"
   ]
  },
  {
   "cell_type": "markdown",
   "id": "d7d74526",
   "metadata": {
    "papermill": {
     "duration": 0.004785,
     "end_time": "2022-07-10T16:22:36.933173",
     "exception": false,
     "start_time": "2022-07-10T16:22:36.928388",
     "status": "completed"
    },
    "tags": []
   },
   "source": [
    "# Introduction\n",
    "\n",
    "Now you are ready to get a deeper understanding of your data.\n",
    "\n",
    "Run the following cell to load your data and some utility functions (including code to check your answers)."
   ]
  },
  {
   "cell_type": "code",
   "execution_count": 1,
   "id": "780e4e38",
   "metadata": {
    "execution": {
     "iopub.execute_input": "2022-07-10T16:22:36.945318Z",
     "iopub.status.busy": "2022-07-10T16:22:36.944872Z",
     "iopub.status.idle": "2022-07-10T16:22:46.177747Z",
     "shell.execute_reply": "2022-07-10T16:22:46.176062Z"
    },
    "papermill": {
     "duration": 9.241501,
     "end_time": "2022-07-10T16:22:46.179853",
     "exception": false,
     "start_time": "2022-07-10T16:22:36.938352",
     "status": "completed"
    },
    "tags": []
   },
   "outputs": [
    {
     "name": "stdout",
     "output_type": "stream",
     "text": [
      "Setup complete.\n"
     ]
    },
    {
     "data": {
      "text/html": [
       "<div>\n",
       "<style scoped>\n",
       "    .dataframe tbody tr th:only-of-type {\n",
       "        vertical-align: middle;\n",
       "    }\n",
       "\n",
       "    .dataframe tbody tr th {\n",
       "        vertical-align: top;\n",
       "    }\n",
       "\n",
       "    .dataframe thead th {\n",
       "        text-align: right;\n",
       "    }\n",
       "</style>\n",
       "<table border=\"1\" class=\"dataframe\">\n",
       "  <thead>\n",
       "    <tr style=\"text-align: right;\">\n",
       "      <th></th>\n",
       "      <th>country</th>\n",
       "      <th>description</th>\n",
       "      <th>designation</th>\n",
       "      <th>points</th>\n",
       "      <th>price</th>\n",
       "      <th>province</th>\n",
       "      <th>region_1</th>\n",
       "      <th>region_2</th>\n",
       "      <th>taster_name</th>\n",
       "      <th>taster_twitter_handle</th>\n",
       "      <th>title</th>\n",
       "      <th>variety</th>\n",
       "      <th>winery</th>\n",
       "    </tr>\n",
       "  </thead>\n",
       "  <tbody>\n",
       "    <tr>\n",
       "      <th>0</th>\n",
       "      <td>Italy</td>\n",
       "      <td>Aromas include tropical fruit, broom, brimston...</td>\n",
       "      <td>Vulkà Bianco</td>\n",
       "      <td>87</td>\n",
       "      <td>NaN</td>\n",
       "      <td>Sicily &amp; Sardinia</td>\n",
       "      <td>Etna</td>\n",
       "      <td>NaN</td>\n",
       "      <td>Kerin O’Keefe</td>\n",
       "      <td>@kerinokeefe</td>\n",
       "      <td>Nicosia 2013 Vulkà Bianco  (Etna)</td>\n",
       "      <td>White Blend</td>\n",
       "      <td>Nicosia</td>\n",
       "    </tr>\n",
       "    <tr>\n",
       "      <th>1</th>\n",
       "      <td>Portugal</td>\n",
       "      <td>This is ripe and fruity, a wine that is smooth...</td>\n",
       "      <td>Avidagos</td>\n",
       "      <td>87</td>\n",
       "      <td>15.0</td>\n",
       "      <td>Douro</td>\n",
       "      <td>NaN</td>\n",
       "      <td>NaN</td>\n",
       "      <td>Roger Voss</td>\n",
       "      <td>@vossroger</td>\n",
       "      <td>Quinta dos Avidagos 2011 Avidagos Red (Douro)</td>\n",
       "      <td>Portuguese Red</td>\n",
       "      <td>Quinta dos Avidagos</td>\n",
       "    </tr>\n",
       "    <tr>\n",
       "      <th>2</th>\n",
       "      <td>US</td>\n",
       "      <td>Tart and snappy, the flavors of lime flesh and...</td>\n",
       "      <td>NaN</td>\n",
       "      <td>87</td>\n",
       "      <td>14.0</td>\n",
       "      <td>Oregon</td>\n",
       "      <td>Willamette Valley</td>\n",
       "      <td>Willamette Valley</td>\n",
       "      <td>Paul Gregutt</td>\n",
       "      <td>@paulgwine</td>\n",
       "      <td>Rainstorm 2013 Pinot Gris (Willamette Valley)</td>\n",
       "      <td>Pinot Gris</td>\n",
       "      <td>Rainstorm</td>\n",
       "    </tr>\n",
       "    <tr>\n",
       "      <th>3</th>\n",
       "      <td>US</td>\n",
       "      <td>Pineapple rind, lemon pith and orange blossom ...</td>\n",
       "      <td>Reserve Late Harvest</td>\n",
       "      <td>87</td>\n",
       "      <td>13.0</td>\n",
       "      <td>Michigan</td>\n",
       "      <td>Lake Michigan Shore</td>\n",
       "      <td>NaN</td>\n",
       "      <td>Alexander Peartree</td>\n",
       "      <td>NaN</td>\n",
       "      <td>St. Julian 2013 Reserve Late Harvest Riesling ...</td>\n",
       "      <td>Riesling</td>\n",
       "      <td>St. Julian</td>\n",
       "    </tr>\n",
       "    <tr>\n",
       "      <th>4</th>\n",
       "      <td>US</td>\n",
       "      <td>Much like the regular bottling from 2012, this...</td>\n",
       "      <td>Vintner's Reserve Wild Child Block</td>\n",
       "      <td>87</td>\n",
       "      <td>65.0</td>\n",
       "      <td>Oregon</td>\n",
       "      <td>Willamette Valley</td>\n",
       "      <td>Willamette Valley</td>\n",
       "      <td>Paul Gregutt</td>\n",
       "      <td>@paulgwine</td>\n",
       "      <td>Sweet Cheeks 2012 Vintner's Reserve Wild Child...</td>\n",
       "      <td>Pinot Noir</td>\n",
       "      <td>Sweet Cheeks</td>\n",
       "    </tr>\n",
       "  </tbody>\n",
       "</table>\n",
       "</div>"
      ],
      "text/plain": [
       "    country                                        description  \\\n",
       "0     Italy  Aromas include tropical fruit, broom, brimston...   \n",
       "1  Portugal  This is ripe and fruity, a wine that is smooth...   \n",
       "2        US  Tart and snappy, the flavors of lime flesh and...   \n",
       "3        US  Pineapple rind, lemon pith and orange blossom ...   \n",
       "4        US  Much like the regular bottling from 2012, this...   \n",
       "\n",
       "                          designation  points  price           province  \\\n",
       "0                        Vulkà Bianco      87    NaN  Sicily & Sardinia   \n",
       "1                            Avidagos      87   15.0              Douro   \n",
       "2                                 NaN      87   14.0             Oregon   \n",
       "3                Reserve Late Harvest      87   13.0           Michigan   \n",
       "4  Vintner's Reserve Wild Child Block      87   65.0             Oregon   \n",
       "\n",
       "              region_1           region_2         taster_name  \\\n",
       "0                 Etna                NaN       Kerin O’Keefe   \n",
       "1                  NaN                NaN          Roger Voss   \n",
       "2    Willamette Valley  Willamette Valley        Paul Gregutt   \n",
       "3  Lake Michigan Shore                NaN  Alexander Peartree   \n",
       "4    Willamette Valley  Willamette Valley        Paul Gregutt   \n",
       "\n",
       "  taster_twitter_handle                                              title  \\\n",
       "0          @kerinokeefe                  Nicosia 2013 Vulkà Bianco  (Etna)   \n",
       "1            @vossroger      Quinta dos Avidagos 2011 Avidagos Red (Douro)   \n",
       "2           @paulgwine       Rainstorm 2013 Pinot Gris (Willamette Valley)   \n",
       "3                   NaN  St. Julian 2013 Reserve Late Harvest Riesling ...   \n",
       "4           @paulgwine   Sweet Cheeks 2012 Vintner's Reserve Wild Child...   \n",
       "\n",
       "          variety               winery  \n",
       "0     White Blend              Nicosia  \n",
       "1  Portuguese Red  Quinta dos Avidagos  \n",
       "2      Pinot Gris            Rainstorm  \n",
       "3        Riesling           St. Julian  \n",
       "4      Pinot Noir         Sweet Cheeks  "
      ]
     },
     "execution_count": 1,
     "metadata": {},
     "output_type": "execute_result"
    }
   ],
   "source": [
    "import pandas as pd\n",
    "pd.set_option(\"display.max_rows\", 5)\n",
    "reviews = pd.read_csv(\"../input/wine-reviews/winemag-data-130k-v2.csv\", index_col=0)\n",
    "\n",
    "from learntools.core import binder; binder.bind(globals())\n",
    "from learntools.pandas.summary_functions_and_maps import *\n",
    "print(\"Setup complete.\")\n",
    "\n",
    "reviews.head()"
   ]
  },
  {
   "cell_type": "markdown",
   "id": "39889e09",
   "metadata": {
    "papermill": {
     "duration": 0.004995,
     "end_time": "2022-07-10T16:22:46.190435",
     "exception": false,
     "start_time": "2022-07-10T16:22:46.185440",
     "status": "completed"
    },
    "tags": []
   },
   "source": [
    "# Exercises"
   ]
  },
  {
   "cell_type": "markdown",
   "id": "d3f6af4a",
   "metadata": {
    "papermill": {
     "duration": 0.005446,
     "end_time": "2022-07-10T16:22:46.201392",
     "exception": false,
     "start_time": "2022-07-10T16:22:46.195946",
     "status": "completed"
    },
    "tags": []
   },
   "source": [
    "## 1.\n",
    "\n",
    "What is the median of the `points` column in the `reviews` DataFrame?"
   ]
  },
  {
   "cell_type": "code",
   "execution_count": 2,
   "id": "44abe6dd",
   "metadata": {
    "execution": {
     "iopub.execute_input": "2022-07-10T16:22:46.213692Z",
     "iopub.status.busy": "2022-07-10T16:22:46.213377Z",
     "iopub.status.idle": "2022-07-10T16:22:46.224945Z",
     "shell.execute_reply": "2022-07-10T16:22:46.223523Z"
    },
    "papermill": {
     "duration": 0.021504,
     "end_time": "2022-07-10T16:22:46.228522",
     "exception": false,
     "start_time": "2022-07-10T16:22:46.207018",
     "status": "completed"
    },
    "tags": []
   },
   "outputs": [
    {
     "data": {
      "application/javascript": [
       "parent.postMessage({\"jupyterEvent\": \"custom.exercise_interaction\", \"data\": {\"outcomeType\": 1, \"valueTowardsCompletion\": 0.14285714285714285, \"interactionType\": 1, \"questionType\": 1, \"questionId\": \"1_MedianPoints\", \"learnToolsVersion\": \"0.3.4\", \"failureMessage\": \"\", \"exceptionClass\": \"\", \"trace\": \"\"}}, \"*\")"
      ],
      "text/plain": [
       "<IPython.core.display.Javascript object>"
      ]
     },
     "metadata": {},
     "output_type": "display_data"
    },
    {
     "data": {
      "text/markdown": [
       "<span style=\"color:#33cc33\">Correct</span>"
      ],
      "text/plain": [
       "Correct"
      ]
     },
     "metadata": {},
     "output_type": "display_data"
    }
   ],
   "source": [
    "median_points = reviews.points.median()\n",
    "\n",
    "# Check your answer\n",
    "q1.check()"
   ]
  },
  {
   "cell_type": "code",
   "execution_count": 3,
   "id": "005526ba",
   "metadata": {
    "execution": {
     "iopub.execute_input": "2022-07-10T16:22:46.248846Z",
     "iopub.status.busy": "2022-07-10T16:22:46.248441Z",
     "iopub.status.idle": "2022-07-10T16:22:46.253191Z",
     "shell.execute_reply": "2022-07-10T16:22:46.252085Z"
    },
    "papermill": {
     "duration": 0.018295,
     "end_time": "2022-07-10T16:22:46.256037",
     "exception": false,
     "start_time": "2022-07-10T16:22:46.237742",
     "status": "completed"
    },
    "tags": []
   },
   "outputs": [],
   "source": [
    "#q1.hint()\n",
    "#q1.solution()abs"
   ]
  },
  {
   "cell_type": "markdown",
   "id": "93de2212",
   "metadata": {
    "papermill": {
     "duration": 0.008829,
     "end_time": "2022-07-10T16:22:46.274009",
     "exception": false,
     "start_time": "2022-07-10T16:22:46.265180",
     "status": "completed"
    },
    "tags": []
   },
   "source": [
    "## 2. \n",
    "What countries are represented in the dataset? (Your answer should not include any duplicates.)"
   ]
  },
  {
   "cell_type": "code",
   "execution_count": 4,
   "id": "5b6262e0",
   "metadata": {
    "execution": {
     "iopub.execute_input": "2022-07-10T16:22:46.293879Z",
     "iopub.status.busy": "2022-07-10T16:22:46.293492Z",
     "iopub.status.idle": "2022-07-10T16:22:46.318755Z",
     "shell.execute_reply": "2022-07-10T16:22:46.317773Z"
    },
    "papermill": {
     "duration": 0.038319,
     "end_time": "2022-07-10T16:22:46.321091",
     "exception": false,
     "start_time": "2022-07-10T16:22:46.282772",
     "status": "completed"
    },
    "tags": []
   },
   "outputs": [
    {
     "data": {
      "application/javascript": [
       "parent.postMessage({\"jupyterEvent\": \"custom.exercise_interaction\", \"data\": {\"outcomeType\": 1, \"valueTowardsCompletion\": 0.14285714285714285, \"interactionType\": 1, \"questionType\": 2, \"questionId\": \"2_UniqueCountries\", \"learnToolsVersion\": \"0.3.4\", \"failureMessage\": \"\", \"exceptionClass\": \"\", \"trace\": \"\"}}, \"*\")"
      ],
      "text/plain": [
       "<IPython.core.display.Javascript object>"
      ]
     },
     "metadata": {},
     "output_type": "display_data"
    },
    {
     "data": {
      "text/markdown": [
       "<span style=\"color:#33cc33\">Correct</span>"
      ],
      "text/plain": [
       "Correct"
      ]
     },
     "metadata": {},
     "output_type": "display_data"
    }
   ],
   "source": [
    "countries = reviews.country.unique()\n",
    "\n",
    "# Check your answer\n",
    "q2.check()"
   ]
  },
  {
   "cell_type": "code",
   "execution_count": 5,
   "id": "802dd26b",
   "metadata": {
    "execution": {
     "iopub.execute_input": "2022-07-10T16:22:46.341696Z",
     "iopub.status.busy": "2022-07-10T16:22:46.341323Z",
     "iopub.status.idle": "2022-07-10T16:22:46.345668Z",
     "shell.execute_reply": "2022-07-10T16:22:46.344369Z"
    },
    "papermill": {
     "duration": 0.017244,
     "end_time": "2022-07-10T16:22:46.348030",
     "exception": false,
     "start_time": "2022-07-10T16:22:46.330786",
     "status": "completed"
    },
    "tags": []
   },
   "outputs": [],
   "source": [
    "#q2.hint()\n",
    "#q2.solution()"
   ]
  },
  {
   "cell_type": "markdown",
   "id": "d30d48cd",
   "metadata": {
    "papermill": {
     "duration": 0.006415,
     "end_time": "2022-07-10T16:22:46.360480",
     "exception": false,
     "start_time": "2022-07-10T16:22:46.354065",
     "status": "completed"
    },
    "tags": []
   },
   "source": [
    "## 3.\n",
    "How often does each country appear in the dataset? Create a Series `reviews_per_country` mapping countries to the count of reviews of wines from that country."
   ]
  },
  {
   "cell_type": "code",
   "execution_count": 6,
   "id": "a5d72855",
   "metadata": {
    "execution": {
     "iopub.execute_input": "2022-07-10T16:22:46.374218Z",
     "iopub.status.busy": "2022-07-10T16:22:46.373857Z",
     "iopub.status.idle": "2022-07-10T16:22:46.399859Z",
     "shell.execute_reply": "2022-07-10T16:22:46.399122Z"
    },
    "papermill": {
     "duration": 0.035355,
     "end_time": "2022-07-10T16:22:46.401933",
     "exception": false,
     "start_time": "2022-07-10T16:22:46.366578",
     "status": "completed"
    },
    "tags": []
   },
   "outputs": [
    {
     "data": {
      "application/javascript": [
       "parent.postMessage({\"jupyterEvent\": \"custom.exercise_interaction\", \"data\": {\"outcomeType\": 1, \"valueTowardsCompletion\": 0.14285714285714285, \"interactionType\": 1, \"questionType\": 1, \"questionId\": \"3_ReviewsPerCountry\", \"learnToolsVersion\": \"0.3.4\", \"failureMessage\": \"\", \"exceptionClass\": \"\", \"trace\": \"\"}}, \"*\")"
      ],
      "text/plain": [
       "<IPython.core.display.Javascript object>"
      ]
     },
     "metadata": {},
     "output_type": "display_data"
    },
    {
     "data": {
      "text/markdown": [
       "<span style=\"color:#33cc33\">Correct</span>"
      ],
      "text/plain": [
       "Correct"
      ]
     },
     "metadata": {},
     "output_type": "display_data"
    }
   ],
   "source": [
    "reviews_per_country = reviews.country.value_counts()\n",
    "\n",
    "# Check your answer\n",
    "q3.check()"
   ]
  },
  {
   "cell_type": "code",
   "execution_count": 7,
   "id": "693eaa69",
   "metadata": {
    "execution": {
     "iopub.execute_input": "2022-07-10T16:22:46.416056Z",
     "iopub.status.busy": "2022-07-10T16:22:46.415384Z",
     "iopub.status.idle": "2022-07-10T16:22:46.419547Z",
     "shell.execute_reply": "2022-07-10T16:22:46.418458Z"
    },
    "papermill": {
     "duration": 0.013874,
     "end_time": "2022-07-10T16:22:46.421849",
     "exception": false,
     "start_time": "2022-07-10T16:22:46.407975",
     "status": "completed"
    },
    "tags": []
   },
   "outputs": [],
   "source": [
    "#q3.hint()\n",
    "#q3.solution()"
   ]
  },
  {
   "cell_type": "markdown",
   "id": "aa1218e4",
   "metadata": {
    "papermill": {
     "duration": 0.005574,
     "end_time": "2022-07-10T16:22:46.433635",
     "exception": false,
     "start_time": "2022-07-10T16:22:46.428061",
     "status": "completed"
    },
    "tags": []
   },
   "source": [
    "## 4.\n",
    "Create variable `centered_price` containing a version of the `price` column with the mean price subtracted.\n",
    "\n",
    "(Note: this 'centering' transformation is a common preprocessing step before applying various machine learning algorithms.) "
   ]
  },
  {
   "cell_type": "code",
   "execution_count": 8,
   "id": "709a9449",
   "metadata": {
    "execution": {
     "iopub.execute_input": "2022-07-10T16:22:46.447631Z",
     "iopub.status.busy": "2022-07-10T16:22:46.447013Z",
     "iopub.status.idle": "2022-07-10T16:22:46.456032Z",
     "shell.execute_reply": "2022-07-10T16:22:46.455308Z"
    },
    "papermill": {
     "duration": 0.018219,
     "end_time": "2022-07-10T16:22:46.457636",
     "exception": false,
     "start_time": "2022-07-10T16:22:46.439417",
     "status": "completed"
    },
    "tags": []
   },
   "outputs": [
    {
     "data": {
      "application/javascript": [
       "parent.postMessage({\"jupyterEvent\": \"custom.exercise_interaction\", \"data\": {\"outcomeType\": 1, \"valueTowardsCompletion\": 0.14285714285714285, \"interactionType\": 1, \"questionType\": 1, \"questionId\": \"4_CenteredPrice\", \"learnToolsVersion\": \"0.3.4\", \"failureMessage\": \"\", \"exceptionClass\": \"\", \"trace\": \"\"}}, \"*\")"
      ],
      "text/plain": [
       "<IPython.core.display.Javascript object>"
      ]
     },
     "metadata": {},
     "output_type": "display_data"
    },
    {
     "data": {
      "text/markdown": [
       "<span style=\"color:#33cc33\">Correct</span>"
      ],
      "text/plain": [
       "Correct"
      ]
     },
     "metadata": {},
     "output_type": "display_data"
    }
   ],
   "source": [
    "centered_price = reviews.price - reviews.price.mean()\n",
    "\n",
    "# Check your answer\n",
    "q4.check()"
   ]
  },
  {
   "cell_type": "code",
   "execution_count": 9,
   "id": "b90f008c",
   "metadata": {
    "execution": {
     "iopub.execute_input": "2022-07-10T16:22:46.473189Z",
     "iopub.status.busy": "2022-07-10T16:22:46.472571Z",
     "iopub.status.idle": "2022-07-10T16:22:46.476927Z",
     "shell.execute_reply": "2022-07-10T16:22:46.475433Z"
    },
    "papermill": {
     "duration": 0.014099,
     "end_time": "2022-07-10T16:22:46.478965",
     "exception": false,
     "start_time": "2022-07-10T16:22:46.464866",
     "status": "completed"
    },
    "tags": []
   },
   "outputs": [],
   "source": [
    "#q4.hint()\n",
    "#q4.solution()"
   ]
  },
  {
   "cell_type": "markdown",
   "id": "2bb54efb",
   "metadata": {
    "papermill": {
     "duration": 0.005798,
     "end_time": "2022-07-10T16:22:46.491079",
     "exception": false,
     "start_time": "2022-07-10T16:22:46.485281",
     "status": "completed"
    },
    "tags": []
   },
   "source": [
    "## 5.\n",
    "I'm an economical wine buyer. Which wine is the \"best bargain\"? Create a variable `bargain_wine` with the title of the wine with the highest points-to-price ratio in the dataset."
   ]
  },
  {
   "cell_type": "code",
   "execution_count": 10,
   "id": "cc307d5c",
   "metadata": {
    "execution": {
     "iopub.execute_input": "2022-07-10T16:22:46.505626Z",
     "iopub.status.busy": "2022-07-10T16:22:46.505003Z",
     "iopub.status.idle": "2022-07-10T16:22:46.516723Z",
     "shell.execute_reply": "2022-07-10T16:22:46.515855Z"
    },
    "papermill": {
     "duration": 0.021445,
     "end_time": "2022-07-10T16:22:46.518657",
     "exception": false,
     "start_time": "2022-07-10T16:22:46.497212",
     "status": "completed"
    },
    "tags": []
   },
   "outputs": [
    {
     "data": {
      "application/javascript": [
       "parent.postMessage({\"jupyterEvent\": \"custom.exercise_interaction\", \"data\": {\"outcomeType\": 1, \"valueTowardsCompletion\": 0.14285714285714285, \"interactionType\": 1, \"questionType\": 2, \"questionId\": \"5_BargainWine\", \"learnToolsVersion\": \"0.3.4\", \"failureMessage\": \"\", \"exceptionClass\": \"\", \"trace\": \"\"}}, \"*\")"
      ],
      "text/plain": [
       "<IPython.core.display.Javascript object>"
      ]
     },
     "metadata": {},
     "output_type": "display_data"
    },
    {
     "data": {
      "text/markdown": [
       "<span style=\"color:#33cc33\">Correct</span>"
      ],
      "text/plain": [
       "Correct"
      ]
     },
     "metadata": {},
     "output_type": "display_data"
    }
   ],
   "source": [
    "bargain_idx = (reviews.points / reviews.price).idxmax()\n",
    "bargain_wine = reviews.loc[bargain_idx, 'title']\n",
    "\n",
    "# Check your answer\n",
    "q5.check()"
   ]
  },
  {
   "cell_type": "code",
   "execution_count": 11,
   "id": "19db2cfe",
   "metadata": {
    "execution": {
     "iopub.execute_input": "2022-07-10T16:22:46.533253Z",
     "iopub.status.busy": "2022-07-10T16:22:46.532694Z",
     "iopub.status.idle": "2022-07-10T16:22:46.536569Z",
     "shell.execute_reply": "2022-07-10T16:22:46.535490Z"
    },
    "papermill": {
     "duration": 0.013444,
     "end_time": "2022-07-10T16:22:46.538493",
     "exception": false,
     "start_time": "2022-07-10T16:22:46.525049",
     "status": "completed"
    },
    "tags": []
   },
   "outputs": [],
   "source": [
    "#q5.hint()\n",
    "#q5.solution()"
   ]
  },
  {
   "cell_type": "markdown",
   "id": "7b1817b6",
   "metadata": {
    "papermill": {
     "duration": 0.006227,
     "end_time": "2022-07-10T16:22:46.551789",
     "exception": false,
     "start_time": "2022-07-10T16:22:46.545562",
     "status": "completed"
    },
    "tags": []
   },
   "source": [
    "## 6.\n",
    "There are only so many words you can use when describing a bottle of wine. Is a wine more likely to be \"tropical\" or \"fruity\"? Create a Series `descriptor_counts` counting how many times each of these two words appears in the `description` column in the dataset. (For simplicity, let's ignore the capitalized versions of these words.)"
   ]
  },
  {
   "cell_type": "code",
   "execution_count": 12,
   "id": "6babbc6f",
   "metadata": {
    "execution": {
     "iopub.execute_input": "2022-07-10T16:22:46.568714Z",
     "iopub.status.busy": "2022-07-10T16:22:46.568008Z",
     "iopub.status.idle": "2022-07-10T16:22:46.731985Z",
     "shell.execute_reply": "2022-07-10T16:22:46.730399Z"
    },
    "papermill": {
     "duration": 0.175954,
     "end_time": "2022-07-10T16:22:46.735060",
     "exception": false,
     "start_time": "2022-07-10T16:22:46.559106",
     "status": "completed"
    },
    "tags": []
   },
   "outputs": [
    {
     "data": {
      "application/javascript": [
       "parent.postMessage({\"jupyterEvent\": \"custom.exercise_interaction\", \"data\": {\"outcomeType\": 1, \"valueTowardsCompletion\": 0.14285714285714285, \"interactionType\": 1, \"questionType\": 1, \"questionId\": \"6_DescriptorCounts\", \"learnToolsVersion\": \"0.3.4\", \"failureMessage\": \"\", \"exceptionClass\": \"\", \"trace\": \"\"}}, \"*\")"
      ],
      "text/plain": [
       "<IPython.core.display.Javascript object>"
      ]
     },
     "metadata": {},
     "output_type": "display_data"
    },
    {
     "data": {
      "text/markdown": [
       "<span style=\"color:#33cc33\">Correct</span>"
      ],
      "text/plain": [
       "Correct"
      ]
     },
     "metadata": {},
     "output_type": "display_data"
    }
   ],
   "source": [
    "n_trop = reviews.description.map(lambda desc: \"tropical\" in desc).sum()\n",
    "n_fruity = reviews.description.map(lambda desc: \"fruity\" in desc).sum()\n",
    "descriptor_counts = pd.Series([n_trop, n_fruity], index=['tropical', 'fruity'])\n",
    "\n",
    "# Check your answer\n",
    "q6.check()"
   ]
  },
  {
   "cell_type": "code",
   "execution_count": 13,
   "id": "5ac00998",
   "metadata": {
    "execution": {
     "iopub.execute_input": "2022-07-10T16:22:46.758793Z",
     "iopub.status.busy": "2022-07-10T16:22:46.758215Z",
     "iopub.status.idle": "2022-07-10T16:22:46.762563Z",
     "shell.execute_reply": "2022-07-10T16:22:46.761639Z"
    },
    "papermill": {
     "duration": 0.019126,
     "end_time": "2022-07-10T16:22:46.764919",
     "exception": false,
     "start_time": "2022-07-10T16:22:46.745793",
     "status": "completed"
    },
    "tags": []
   },
   "outputs": [],
   "source": [
    "#q6.hint()\n",
    "#q6.solution()"
   ]
  },
  {
   "cell_type": "markdown",
   "id": "632fa1c1",
   "metadata": {
    "papermill": {
     "duration": 0.010045,
     "end_time": "2022-07-10T16:22:46.785641",
     "exception": false,
     "start_time": "2022-07-10T16:22:46.775596",
     "status": "completed"
    },
    "tags": []
   },
   "source": [
    "## 7.\n",
    "We'd like to host these wine reviews on our website, but a rating system ranging from 80 to 100 points is too hard to understand - we'd like to translate them into simple star ratings. A score of 95 or higher counts as 3 stars, a score of at least 85 but less than 95 is 2 stars. Any other score is 1 star.\n",
    "\n",
    "Also, the Canadian Vintners Association bought a lot of ads on the site, so any wines from Canada should automatically get 3 stars, regardless of points.\n",
    "\n",
    "Create a series `star_ratings` with the number of stars corresponding to each review in the dataset."
   ]
  },
  {
   "cell_type": "code",
   "execution_count": 14,
   "id": "a0df7336",
   "metadata": {
    "execution": {
     "iopub.execute_input": "2022-07-10T16:22:46.808926Z",
     "iopub.status.busy": "2022-07-10T16:22:46.808586Z",
     "iopub.status.idle": "2022-07-10T16:22:52.077183Z",
     "shell.execute_reply": "2022-07-10T16:22:52.076479Z"
    },
    "papermill": {
     "duration": 5.282362,
     "end_time": "2022-07-10T16:22:52.079116",
     "exception": false,
     "start_time": "2022-07-10T16:22:46.796754",
     "status": "completed"
    },
    "tags": []
   },
   "outputs": [
    {
     "data": {
      "application/javascript": [
       "parent.postMessage({\"jupyterEvent\": \"custom.exercise_interaction\", \"data\": {\"outcomeType\": 1, \"valueTowardsCompletion\": 0.14285714285714285, \"interactionType\": 1, \"questionType\": 1, \"questionId\": \"7_StarRatings\", \"learnToolsVersion\": \"0.3.4\", \"failureMessage\": \"\", \"exceptionClass\": \"\", \"trace\": \"\"}}, \"*\")"
      ],
      "text/plain": [
       "<IPython.core.display.Javascript object>"
      ]
     },
     "metadata": {},
     "output_type": "display_data"
    },
    {
     "data": {
      "text/markdown": [
       "<span style=\"color:#33cc33\">Correct</span>"
      ],
      "text/plain": [
       "Correct"
      ]
     },
     "metadata": {},
     "output_type": "display_data"
    }
   ],
   "source": [
    "def stars(row):\n",
    "    if row.country == 'Canada':\n",
    "        return 3\n",
    "    elif row.points >= 95:\n",
    "        return 3\n",
    "    elif row.points >= 85:\n",
    "        return 2\n",
    "    else:\n",
    "        return 1\n",
    "\n",
    "star_ratings = reviews.apply(stars, axis='columns')\n",
    "\n",
    "# Check your answer\n",
    "q7.check()"
   ]
  },
  {
   "cell_type": "code",
   "execution_count": 15,
   "id": "81c90455",
   "metadata": {
    "execution": {
     "iopub.execute_input": "2022-07-10T16:22:52.104013Z",
     "iopub.status.busy": "2022-07-10T16:22:52.103181Z",
     "iopub.status.idle": "2022-07-10T16:22:52.107297Z",
     "shell.execute_reply": "2022-07-10T16:22:52.106328Z"
    },
    "papermill": {
     "duration": 0.019458,
     "end_time": "2022-07-10T16:22:52.109568",
     "exception": false,
     "start_time": "2022-07-10T16:22:52.090110",
     "status": "completed"
    },
    "tags": []
   },
   "outputs": [],
   "source": [
    "#q7.hint()\n",
    "#q7.solution()"
   ]
  },
  {
   "cell_type": "markdown",
   "id": "4e0a4b6b",
   "metadata": {
    "papermill": {
     "duration": 0.007892,
     "end_time": "2022-07-10T16:22:52.128534",
     "exception": false,
     "start_time": "2022-07-10T16:22:52.120642",
     "status": "completed"
    },
    "tags": []
   },
   "source": [
    "# Keep going\n",
    "Continue to **[grouping and sorting](https://www.kaggle.com/residentmario/grouping-and-sorting)**."
   ]
  },
  {
   "cell_type": "markdown",
   "id": "788f0850",
   "metadata": {
    "papermill": {
     "duration": 0.006557,
     "end_time": "2022-07-10T16:22:52.142161",
     "exception": false,
     "start_time": "2022-07-10T16:22:52.135604",
     "status": "completed"
    },
    "tags": []
   },
   "source": [
    "---\n",
    "\n",
    "\n",
    "\n",
    "\n",
    "*Have questions or comments? Visit the [course discussion forum](https://www.kaggle.com/learn/pandas/discussion) to chat with other learners.*"
   ]
  }
 ],
 "metadata": {
  "kernelspec": {
   "display_name": "Python 3",
   "language": "python",
   "name": "python3"
  },
  "language_info": {
   "codemirror_mode": {
    "name": "ipython",
    "version": 3
   },
   "file_extension": ".py",
   "mimetype": "text/x-python",
   "name": "python",
   "nbconvert_exporter": "python",
   "pygments_lexer": "ipython3",
   "version": "3.7.12"
  },
  "papermill": {
   "default_parameters": {},
   "duration": 28.667757,
   "end_time": "2022-07-10T16:22:53.074866",
   "environment_variables": {},
   "exception": null,
   "input_path": "__notebook__.ipynb",
   "output_path": "__notebook__.ipynb",
   "parameters": {},
   "start_time": "2022-07-10T16:22:24.407109",
   "version": "2.3.4"
  }
 },
 "nbformat": 4,
 "nbformat_minor": 5
}
